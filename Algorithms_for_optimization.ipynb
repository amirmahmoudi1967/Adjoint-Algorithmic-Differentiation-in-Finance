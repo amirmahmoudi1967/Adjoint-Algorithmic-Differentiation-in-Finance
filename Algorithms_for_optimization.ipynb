{
  "nbformat": 4,
  "nbformat_minor": 0,
  "metadata": {
    "kernelspec": {
      "display_name": "Python 3",
      "language": "python",
      "name": "python3"
    },
    "language_info": {
      "codemirror_mode": {
        "name": "ipython",
        "version": 3
      },
      "file_extension": ".py",
      "mimetype": "text/x-python",
      "name": "python",
      "nbconvert_exporter": "python",
      "pygments_lexer": "ipython3",
      "version": "3.8.5"
    },
    "colab": {
      "name": "Algorithms for optimization.ipynb",
      "provenance": [],
      "collapsed_sections": [
        "VlvifevxgH_C",
        "Xyw10wdWD813",
        "5aEWYzF2XM9-",
        "DPMB0FGwxJnS",
        "RG9sDVa432NC",
        "Xy4YSCl-qLcj",
        "WB9w6-WpVtbM"
      ]
    }
  },
  "cells": [
    {
      "cell_type": "code",
      "metadata": {
        "colab": {
          "base_uri": "https://localhost:8080/"
        },
        "id": "UmigfCxlHvTZ",
        "outputId": "6d587cb6-ce42-476b-d8f0-9643b0b16b2f"
      },
      "source": [
        "!pip install numdifftools"
      ],
      "execution_count": null,
      "outputs": [
        {
          "output_type": "stream",
          "name": "stdout",
          "text": [
            "Collecting numdifftools\n",
            "  Downloading numdifftools-0.9.40-py2.py3-none-any.whl (99 kB)\n",
            "\u001b[K     |████████████████████████████████| 99 kB 3.7 MB/s \n",
            "\u001b[?25hRequirement already satisfied: numpy>=1.9 in /usr/local/lib/python3.7/dist-packages (from numdifftools) (1.19.5)\n",
            "Requirement already satisfied: scipy>=0.8 in /usr/local/lib/python3.7/dist-packages (from numdifftools) (1.4.1)\n",
            "Collecting algopy>=0.4\n",
            "  Downloading algopy-0.5.7.zip (189 kB)\n",
            "\u001b[K     |████████████████████████████████| 189 kB 25.0 MB/s \n",
            "\u001b[?25hRequirement already satisfied: statsmodels>=0.6 in /usr/local/lib/python3.7/dist-packages (from numdifftools) (0.10.2)\n",
            "Requirement already satisfied: pandas>=0.19 in /usr/local/lib/python3.7/dist-packages (from statsmodels>=0.6->numdifftools) (1.1.5)\n",
            "Requirement already satisfied: patsy>=0.4.0 in /usr/local/lib/python3.7/dist-packages (from statsmodels>=0.6->numdifftools) (0.5.2)\n",
            "Requirement already satisfied: python-dateutil>=2.7.3 in /usr/local/lib/python3.7/dist-packages (from pandas>=0.19->statsmodels>=0.6->numdifftools) (2.8.2)\n",
            "Requirement already satisfied: pytz>=2017.2 in /usr/local/lib/python3.7/dist-packages (from pandas>=0.19->statsmodels>=0.6->numdifftools) (2018.9)\n",
            "Requirement already satisfied: six in /usr/local/lib/python3.7/dist-packages (from patsy>=0.4.0->statsmodels>=0.6->numdifftools) (1.15.0)\n",
            "Building wheels for collected packages: algopy\n",
            "  Building wheel for algopy (setup.py) ... \u001b[?25l\u001b[?25hdone\n",
            "  Created wheel for algopy: filename=algopy-0.5.7-py3-none-any.whl size=107608 sha256=7c4a097e0e693e24600ba03b2fa30356474c3b74262d0ec2ed12cfb80813cff4\n",
            "  Stored in directory: /root/.cache/pip/wheels/a8/fd/06/21dc6aba9f680fdbde386c06b1a8a1cf3d9a5f6bd96e31dcd4\n",
            "Successfully built algopy\n",
            "Installing collected packages: algopy, numdifftools\n",
            "Successfully installed algopy-0.5.7 numdifftools-0.9.40\n"
          ]
        }
      ]
    },
    {
      "cell_type": "code",
      "metadata": {
        "id": "Zp6JzVpaDbp5"
      },
      "source": [
        "import numpy as np\n",
        "from scipy.misc import derivative\n",
        "from scipy.optimize import minimize_scalar\n",
        "import numdifftools as nd\n",
        "from scipy.optimize import NonlinearConstraint\n",
        "from scipy.optimize import Bounds\n",
        "from scipy.optimize import LinearConstraint\n",
        "from scipy.optimize import minimize\n",
        "import cvxpy as cp\n",
        "import matplotlib.pyplot as plt\n",
        "\n",
        "%matplotlib inline"
      ],
      "execution_count": null,
      "outputs": []
    },
    {
      "cell_type": "markdown",
      "metadata": {
        "id": "tST8gvc9Dbp8"
      },
      "source": [
        "Les algorithmes du livre sont en Julia mais apparemment les traductions dans d'autres langages sont disponibles sur le site du livre http://mitpress.mit.edu/algorithms-for-optimization."
      ]
    },
    {
      "cell_type": "markdown",
      "metadata": {
        "id": "Hm3-x3f1Dbp-"
      },
      "source": [
        "## Chapitre 1\n",
        "\n",
        "Généralités sur l'optimisation.\n",
        "\n",
        "Un \"$\\textit{design point}$\" de dimension n est un vecteur de $\\mathbb{R}^{n}$.\n",
        "\n",
        "Différents types de minima:\n",
        "\n",
        "- $\\mathbf{x^{*}}$ minimum local fort si $\\exists \\delta > 0$ tel que $f(\\mathbf{x^{*}}) < f(\\mathbf{x})$ si $\\vert\\vert\\mathbf{x^{*}} - \\mathbf{x}\\vert\\vert < \\delta$\n",
        "- $\\mathbf{x^{*}}$ minimum local faible si $\\exists \\delta > 0$ tel que $f(\\mathbf{x^{*}}) \\leq f(\\mathbf{x})$ si $\\vert\\vert\\mathbf{x^{*}} - \\mathbf{x}\\vert\\vert < \\delta$\n",
        "- $\\mathbf{x^{*}}$ minimum global fort si $\\forall\\mathbf{x}, f(\\mathbf{x^{*}}) < f(\\mathbf{x})$ \n",
        "- $\\mathbf{x^{*}}$ minimum global faible si $\\forall\\mathbf{x}, f(\\mathbf{x^{*}}) \\leq f(\\mathbf{x})$ \n",
        "\n",
        "\n",
        "Notations :\n",
        "- FONC = First order necessary condition $f^{'}(x)=0$ ou $\\nabla f(\\mathbf{x}) = 0$\n",
        "- SONC = Second order necessary condition $f^{''}(x)\\geq 0$ ou $\\nabla^{2} f(\\mathbf{x})$ est semi-définie positive.\n",
        "- SOSC = Second order sufficient condition = FONC satisfaite et  $\\nabla^{2} f(\\mathbf{x})$ est définie positive.\n",
        "\n",
        "Overview :\n",
        "\n",
        "- Chapitre 2 : calcul de dérivées\n",
        "- Chapitre 3 : Bracketting (pour les fonctions d'une seule variable, permet d'identifier un intervalle dans lequel on a un min local).\n",
        "- Chapitre 4 : Local descent (descente de gradient)\n",
        "- Chapitre 5 : techniques pour choisir la meilleure direction de descente\n",
        "- Chapitre 6 : Second-order approximations (informent sur la direction et la taille du pas)\n",
        "- Chapitre 7 : Direct methods (n'utilisent pas la descente de gradient, cherchent directement le min dans des directions données).\n",
        "- Chapitre 8 : méthodes stochastiques\n",
        "- Chapitre 9 : population methods (on utilise une collection de points pour ?)\n",
        "- Chapitre 10 : Optimisation sous contraintes\n",
        "- Chapitre 11 : Problèmes linéaires (simplex)\n",
        "- Chapitre 12 : Multiobjective optimization\n",
        "- Chapitre 13 : Sampling plans to cover the design space\n",
        "- Chapitre 14 : Surrogate models (models used when objective function is very expansive to compute).\n",
        "- Chapitre 15 : Probabilistic Surrogate models (to quantify our confidence in the predictions of the models).\n",
        "- Chapitre 16 : shows how to use models from chapter 15 to do surrogate optimization.\n",
        "- Chapitre 17 : optimization under uncertainty (quand la fonction objecctif n'est plus forcément déterministe).\n",
        "- Chapitre 18 : uncertainty propagation \n",
        "- Chapitre 19 : approche des problèmes où les variables sont discrètes.\n",
        "- Chapitre 20 : ?\n",
        "- Chapitre 21 : multidisciplinary design optimization\n",
        "\n",
        "- Appendice A : language Julia\n",
        "- Appendice B : fonctions pour tester les algos\n",
        "- Appendice C : concepts mathématiques.\n"
      ]
    },
    {
      "cell_type": "markdown",
      "metadata": {
        "id": "d7gs7PG1Dbp_"
      },
      "source": [
        "## Fonctions de tests (appendice B)"
      ]
    },
    {
      "cell_type": "code",
      "metadata": {
        "id": "hFyI-eGfDbqA"
      },
      "source": [
        "\"\"\"used to test a method’s susceptibility to getting\n",
        "stuck in local minima. It is comprised of two primary components—a sinusoidal\n",
        "component that produces a multitude of local minima and an exponential bell\n",
        "curve centered at the origin, which establishes the function’s global minimum.\"\"\"\n",
        "\n",
        "\n",
        "def ackley(x, a=20, b=0.2, c=2*np.pi):\n",
        "    \n",
        "    n = len(x)\n",
        "    \n",
        "    \n",
        "    return -a*np.exp(-b*np.sqrt(1/n)*np.linalg.norm(x))-np.exp(1/n*sum([np.cos(c*x[i]) for i in range(n)])) + a + np.exp(1)"
      ],
      "execution_count": null,
      "outputs": []
    },
    {
      "cell_type": "code",
      "metadata": {
        "id": "aKQYnOx_DbqB",
        "colab": {
          "base_uri": "https://localhost:8080/"
        },
        "outputId": "13955509-3549-462c-878f-2cdc53b07aa6"
      },
      "source": [
        "ackley([1,2,3])"
      ],
      "execution_count": null,
      "outputs": [
        {
          "output_type": "execute_result",
          "data": {
            "text/plain": [
              "7.016453608269398"
            ]
          },
          "metadata": {},
          "execution_count": 81
        }
      ]
    },
    {
      "cell_type": "code",
      "metadata": {
        "id": "fYKDrmPZDbqC"
      },
      "source": [
        "\"\"\"Two-dimensional function with a global minimum at (1,3)\"\"\"\n",
        "\n",
        "def booth(x):\n",
        "    \n",
        "    return (x[0]+2*x[1]-7)**2 + (2*x[0]+x[1]-5)**2"
      ],
      "execution_count": null,
      "outputs": []
    },
    {
      "cell_type": "code",
      "metadata": {
        "id": "AGYI4tjfDbqC",
        "colab": {
          "base_uri": "https://localhost:8080/"
        },
        "outputId": "4a2c9640-f5df-4f2f-dcc1-f21b3bb77cc3"
      },
      "source": [
        "booth(np.array([0,0]))"
      ],
      "execution_count": null,
      "outputs": [
        {
          "output_type": "execute_result",
          "data": {
            "text/plain": [
              "74"
            ]
          },
          "metadata": {},
          "execution_count": 83
        }
      ]
    },
    {
      "cell_type": "code",
      "metadata": {
        "id": "pIC0tWH8DbqD"
      },
      "source": [
        "\"\"\"Two-dimensional function, It has no local minima aside from global minima with x0 = π + 2πm for\n",
        "integral m.\"\"\"\n",
        "\n",
        "def branin(x, a=1,b=5.1/((4*np.pi)**2), c=5/np.pi, r=6, s=10, t=1/(8*np.pi)):\n",
        "    \n",
        "    return a*(x[1]-b*x[0]**2+c*x[0]-r)**2 + s*(1-t)*np.cos(x[0]) + s"
      ],
      "execution_count": null,
      "outputs": []
    },
    {
      "cell_type": "code",
      "metadata": {
        "id": "ZT2JuphMDbqD",
        "colab": {
          "base_uri": "https://localhost:8080/"
        },
        "outputId": "6f9ca13b-52c3-4b81-a27e-f8dad417f24d"
      },
      "source": [
        "branin([1,2])"
      ],
      "execution_count": null,
      "outputs": [
        {
          "output_type": "execute_result",
          "data": {
            "text/plain": [
              "21.145288037650868"
            ]
          },
          "metadata": {},
          "execution_count": 85
        }
      ]
    },
    {
      "cell_type": "code",
      "metadata": {
        "id": "rUOh3T1CDbqE"
      },
      "source": [
        "\"\"\"Two-dimensional function. The flower function is minimized near the origin but does not have a global\n",
        "minimum due to atan being undefined at (0, 0).\"\"\"\n",
        "\n",
        "\n",
        "def flower(x, a=1, b=1, c=4):\n",
        "    return a*np.linalg.norm(x)+b*np.sin(c*np.arctan2(x[1],x[0]))"
      ],
      "execution_count": null,
      "outputs": []
    },
    {
      "cell_type": "code",
      "metadata": {
        "id": "iKSWYHYXDbqE",
        "colab": {
          "base_uri": "https://localhost:8080/"
        },
        "outputId": "5f05fd37-dd2e-4900-9456-16a4307a1c8f"
      },
      "source": [
        "flower([1,2])"
      ],
      "execution_count": null,
      "outputs": [
        {
          "output_type": "execute_result",
          "data": {
            "text/plain": [
              "1.2760679774997898"
            ]
          },
          "metadata": {},
          "execution_count": 87
        }
      ]
    },
    {
      "cell_type": "code",
      "metadata": {
        "id": "2xzJz6UuDbqE"
      },
      "source": [
        "\"\"\"n-dimensional function. The global minimum\n",
        "depends on the number of dimensions. In two dimensions the minimum is at approximately\n",
        "(2.20, 1.57).\"\"\"\n",
        "\n",
        "\n",
        "def michalewicz(x, m=10):\n",
        "    \n",
        "    return -sum([np.sin(x[i])*np.sin(i*x[i]**2/np.pi)**(2*m) for i in range(len(x))])\n"
      ],
      "execution_count": null,
      "outputs": []
    },
    {
      "cell_type": "code",
      "metadata": {
        "id": "kA2LH_n_DbqE",
        "colab": {
          "base_uri": "https://localhost:8080/"
        },
        "outputId": "012b6090-6dc0-4b68-eead-46b355fb52f9"
      },
      "source": [
        "michalewicz([1,2])"
      ],
      "execution_count": null,
      "outputs": [
        {
          "output_type": "execute_result",
          "data": {
            "text/plain": [
              "-0.3701429452781076"
            ]
          },
          "metadata": {},
          "execution_count": 89
        }
      ]
    },
    {
      "cell_type": "code",
      "metadata": {
        "id": "iCqnu1dJDbqF"
      },
      "source": [
        "\"\"\"Two-dimensional function with a global minimum at (a, a²)\"\"\"\n",
        "\n",
        "def rosenbrock(x, a=1, b=5):\n",
        "    \n",
        "    return (a-x[0])**2+b*(x[1]-x[0]**2)**2"
      ],
      "execution_count": null,
      "outputs": []
    },
    {
      "cell_type": "code",
      "metadata": {
        "id": "5K2ARSwODbqF",
        "colab": {
          "base_uri": "https://localhost:8080/"
        },
        "outputId": "0e8612b8-3861-4b68-de08-b24cdf312155"
      },
      "source": [
        "rosenbrock([1,1])"
      ],
      "execution_count": null,
      "outputs": [
        {
          "output_type": "execute_result",
          "data": {
            "text/plain": [
              "0"
            ]
          },
          "metadata": {},
          "execution_count": 91
        }
      ]
    },
    {
      "cell_type": "code",
      "metadata": {
        "id": "iO4cQ_lhDbqF"
      },
      "source": [
        "\"\"\"Two-dimensional function with a single global\n",
        "minimum in a deep curved peak.\"\"\"\n",
        "\n",
        "def wheeler(x, a=1.5):\n",
        "    \n",
        "    return -np.exp(-(x[0]*x[1]-a)**2-(x[1]-a)**2)"
      ],
      "execution_count": null,
      "outputs": []
    },
    {
      "cell_type": "code",
      "metadata": {
        "id": "acVLfo-QDbqF",
        "colab": {
          "base_uri": "https://localhost:8080/"
        },
        "outputId": "3c8322ea-8551-4d8c-ee35-76514828c622"
      },
      "source": [
        "wheeler([1,3/2])"
      ],
      "execution_count": null,
      "outputs": [
        {
          "output_type": "execute_result",
          "data": {
            "text/plain": [
              "-1.0"
            ]
          },
          "metadata": {},
          "execution_count": 93
        }
      ]
    },
    {
      "cell_type": "code",
      "metadata": {
        "id": "F4zyZVgJDbqG"
      },
      "source": [
        "\"\"\"Multiobjective function, two-dimensional\"\"\"\n",
        "\n",
        "def circle(x):\n",
        "    \n",
        "    theta = x[0]\n",
        "    r = 1/2+1/2*((2*x[1])/(1+x[1]**2))\n",
        "    \n",
        "    y1 = 1-r*np.cos(theta)\n",
        "    y2 = 1-r*np.sin(theta)\n",
        "    \n",
        "    return [y1,y2]\n"
      ],
      "execution_count": null,
      "outputs": []
    },
    {
      "cell_type": "code",
      "metadata": {
        "id": "rIwNjNHhDbqG",
        "colab": {
          "base_uri": "https://localhost:8080/"
        },
        "outputId": "1aa3fdd4-0c50-43b1-f1bf-2d565441930f"
      },
      "source": [
        "circle([0.2,4.3])"
      ],
      "execution_count": null,
      "outputs": [
        {
          "output_type": "execute_result",
          "data": {
            "text/plain": [
              "[0.29373857948793025, 0.8568337223695929]"
            ]
          },
          "metadata": {},
          "execution_count": 95
        }
      ]
    },
    {
      "cell_type": "markdown",
      "metadata": {
        "id": "tTk1kKEuLdnz"
      },
      "source": [
        "## Chapitre 2\n",
        "\n",
        "Plusieurs méthodes de dérivations sont décrites (forward, backward, central).\n",
        "\n",
        "Une technique en passant par les complexes est donnée comme exemple pour s'affranchir des problèmes de pas de dérivation trop petit.\n",
        "\n",
        "Exemples aussi d'AD (automatic differentiation).\n",
        "\n",
        "On utilise en dessous la fonction derivative du package scipy.misc."
      ]
    },
    {
      "cell_type": "code",
      "metadata": {
        "colab": {
          "base_uri": "https://localhost:8080/"
        },
        "id": "0pXmkBCsL3EM",
        "outputId": "cc7cc72e-e149-4f20-9207-7b36eb9ffee6"
      },
      "source": [
        "x = 0\n",
        "X = np.linspace(0,10,100)\n",
        "\n",
        "d = derivative(np.exp,x,dx=0.01)\n",
        "D = derivative(np.exp, X, dx = 0.01)\n",
        "\n",
        "print(d)\n",
        "print(D)\n"
      ],
      "execution_count": null,
      "outputs": [
        {
          "output_type": "stream",
          "name": "stdout",
          "text": [
            "1.0000166667499921\n",
            "[1.00001667e+00 1.10630625e+00 1.22389313e+00 1.35397806e+00\n",
            " 1.49788943e+00 1.65709683e+00 1.83322603e+00 2.02807562e+00\n",
            " 2.24363535e+00 2.48210645e+00 2.74592413e+00 3.03778241e+00\n",
            " 3.36066167e+00 3.71785905e+00 4.11302218e+00 4.55018632e+00\n",
            " 5.03381569e+00 5.56884897e+00 6.16074976e+00 6.81556240e+00\n",
            " 7.53997365e+00 8.34138098e+00 9.22796815e+00 1.02087887e+01\n",
            " 1.12938586e+01 1.24942582e+01 1.38222456e+01 1.52913819e+01\n",
            " 1.69166695e+01 1.87147053e+01 2.07038505e+01 2.29044175e+01\n",
            " 2.53388781e+01 2.80320921e+01 3.10115619e+01 3.43077131e+01\n",
            " 3.79542051e+01 4.19882746e+01 4.64511167e+01 5.13883044e+01\n",
            " 5.68502551e+01 6.28927445e+01 6.95774770e+01 7.69727151e+01\n",
            " 8.51539769e+01 9.42048072e+01 1.04217630e+02 1.15294695e+02\n",
            " 1.27549116e+02 1.41106033e+02 1.56103885e+02 1.72695826e+02\n",
            " 1.91051289e+02 2.11357713e+02 2.33822463e+02 2.58674942e+02\n",
            " 2.86168936e+02 3.16585208e+02 3.50234358e+02 3.87460003e+02\n",
            " 4.28642281e+02 4.74201733e+02 5.24603600e+02 5.80362571e+02\n",
            " 6.42048041e+02 7.10289925e+02 7.85785090e+02 8.69304472e+02\n",
            " 9.61700946e+02 1.06391804e+03 1.17699956e+03 1.30210028e+03\n",
            " 1.44049767e+03 1.59360503e+03 1.76298582e+03 1.95036974e+03\n",
            " 2.15767028e+03 2.38700434e+03 2.64071382e+03 2.92138952e+03\n",
            " 3.23189764e+03 3.57540898e+03 3.95543139e+03 4.37584556e+03\n",
            " 4.84094463e+03 5.35547806e+03 5.92470013e+03 6.55442357e+03\n",
            " 7.25107894e+03 8.02178028e+03 8.87439779e+03 9.81763815e+03\n",
            " 1.08611335e+04 1.20155396e+04 1.32926451e+04 1.47054913e+04\n",
            " 1.62685059e+04 1.79976499e+04 1.99105808e+04 2.20268329e+04]\n"
          ]
        }
      ]
    },
    {
      "cell_type": "markdown",
      "metadata": {
        "id": "m71IRAkgSP51"
      },
      "source": [
        "## Chapitre 3\n",
        "\n",
        "Méthode de bracketting. But : trouver un intervalle où on a un min.\n",
        "\n",
        "**Définition** : une fonction unimodale $f$ est une fonction telle qu'il existe un unique $x^{*}$ tel que la fonction soit décroissante pour $x \\leq x^{*}$ et croissante pour $x \\geq x^{*}$.\n",
        "\n",
        "Si $f$ est unimodale, on peut *bracketter* un intervalle $[a,c]$ contenant le minimum (qui est global d'après la définition de l'unimodalité) si on peut trouver trois point $a$, $b$, $c$, tels que $a < b < c$ et $f(a) > f(b) < f(c)$.\n",
        "\n",
        "Le but étant ensuite de résuire la taille de l'intervalle *bracketté* pour converger vers le minimum.\n",
        "\n",
        "**NB : l'algo ne marche pas sur les fonctions qui n'ont pas de minima locaux comme l'exponentielle.**\n",
        "\n"
      ]
    },
    {
      "cell_type": "code",
      "metadata": {
        "id": "cy6Vno2MWHd8"
      },
      "source": [
        "def bracket_minimum(f, x=0, s=1e-2, k=2.0):\n",
        "  a, ya = x, f(x)\n",
        "  b, yb = a + s, f(a+s)\n",
        "\n",
        "  if yb > ya:\n",
        "    a, b = b, a\n",
        "    ya, yb = yb, ya\n",
        "    s = -s\n",
        "  \n",
        "  while True:\n",
        "\n",
        "    c, yc = b + s, f(b+s)\n",
        "    if yc > yb:\n",
        "\n",
        "      if a < c: \n",
        "        return (a,c)\n",
        "      else:\n",
        "        return (c,a)\n",
        "    \n",
        "    a, ya, b, yb = b, yb, c, yc\n",
        "    s *= k\n"
      ],
      "execution_count": null,
      "outputs": []
    },
    {
      "cell_type": "code",
      "metadata": {
        "colab": {
          "base_uri": "https://localhost:8080/"
        },
        "id": "njcIVlpQhADu",
        "outputId": "7bb66ab0-c678-446f-c6c2-a7f1259e8465"
      },
      "source": [
        "#Exemple\n",
        "\n",
        "def g(x):\n",
        "  return x**2\n",
        "\n",
        "bracket_minimum(g, x=1)"
      ],
      "execution_count": null,
      "outputs": [
        {
          "output_type": "execute_result",
          "data": {
            "text/plain": [
              "(-1.55, 0.36999999999999994)"
            ]
          },
          "metadata": {},
          "execution_count": 98
        }
      ]
    },
    {
      "cell_type": "markdown",
      "metadata": {
        "id": "ODoCKsPJhZHA"
      },
      "source": [
        "Méthodes pour réduire l'intervalle :\n",
        "\n",
        "1.   *Fibonacci Search* permet de spécifier un nombre d'appels de $f$. La taille de l'intervalle est divisé par $F_{n+1}$ ($n+1^{ème}$ terme de la suite de Fibonacci) si on s'autorise à appeler $n$ fois $f$.\n",
        "2.   *Golden ratio Search* similaire.\n",
        "\n",
        "\n",
        "**NB : les deux méthodes précédentes s'appliquent à des fonctions non -unimodales mais on n'est pas garanti d'avoir un min globale.**\n",
        "\n",
        "3. *Quadratic fit search* approche basé sur le fait que quand on \"zoom\" sur un min local, la fonction est souvent de forme quadratique. Cette méthode est plus rapide que la deuxième.\n",
        "\n",
        "4. *Shubert-Piyavskii* méthode (élaborée) qui marche avec des fonctions lipschitziennes. Contrairement aux méthodes précédentes, celle-ci est une **méthode d'optimisation globale** et assure de trouver un min globale même si la fonction a plusieurs min locaux et/ou n'est pas unimodale. L'algorithme retourne le min et des intervalles.\n",
        "\n",
        "\n",
        "5. *Bisection Method* **Méthode encore différente** qui permet de trouver les racines d'une fonction, utile pour trouver les racines de la dérivée de la fonction de coût. Basée sur le TVI et la dichotomie (on mentionne aussi la méthode de *Brent-Dekker* qui est une extension de cette méthode).\n"
      ]
    },
    {
      "cell_type": "markdown",
      "metadata": {
        "id": "G6_uPJk7UxcG"
      },
      "source": [
        "## Chapitre 4\n",
        "\n",
        "NB : *step size* fait référence à la taille du pas dans la descente de gradient (implique que la norme de la direction est 1). *Learning rate* fait référence à un scalaire devant un vecteur donnant la direction de la descente et non nécessairement de norme 1.\n",
        "\n",
        "### Line Search\n",
        "\n",
        "On suppose qu'on a déterminé la direction de descente **d**. On cherche la taille du pas $\\alpha$. Le *line search* cinsiste à résoudre : \n",
        "\n",
        "$$\\underset{\\alpha \\in \\mathbb{R}}{\\text{min}}  \\; f(\\mathbf{x}+\\alpha \\mathbf{d})$$"
      ]
    },
    {
      "cell_type": "code",
      "metadata": {
        "id": "YKnOQo4DbC1A"
      },
      "source": [
        "def line_search(f,x,d):\n",
        "  cost_function = lambda a: f(x+a*d) \n",
        "  a_opt = minimize_scalar(cost_function, method='brent')\n",
        "\n",
        "  return x + a_opt.x*d"
      ],
      "execution_count": null,
      "outputs": []
    },
    {
      "cell_type": "code",
      "metadata": {
        "colab": {
          "base_uri": "https://localhost:8080/"
        },
        "id": "YDG91oPjeJfY",
        "outputId": "670d01e0-ee02-4397-c91f-6f156a14e5a1"
      },
      "source": [
        "def test_1(x):\n",
        "\n",
        "  return np.sin(x[0]*x[1])+np.exp(x[1]+x[2])-x[2]\n",
        "\n",
        "x = np.array([1,2,3])\n",
        "d = np.array([0,-1,-1])\n",
        "\n",
        "print(line_search(test_1,x,d))\n"
      ],
      "execution_count": null,
      "outputs": [
        {
          "output_type": "stream",
          "name": "stdout",
          "text": [
            "[ 1.         -1.12704561 -0.12704561]\n"
          ]
        }
      ]
    },
    {
      "cell_type": "markdown",
      "metadata": {
        "id": "VlvifevxgH_C"
      },
      "source": [
        "### Approximate Line Search\n",
        "\n",
        "La méthode précédente peut être très couteuse en temps de calcul (une minimisation à chaque étape). On peut être moins précis que ça et faire en sorte que $\\alpha$ cause une diminution suffisante de la fonction de coût.\n",
        "Un algorithme permettant de faire ça est le *backtracking line search*. Il part d'un grand pas et le diminue jusqu'à ce que la **condition de diminution suffisante** soit remplie. Elle s'énonce ainsi :\n",
        "\n",
        "$$f(\\mathbf{x}^{(k+1)}) \\leq f(\\mathbf{x}^{(k)}) + \\beta\\alpha\\langle\\nabla f(\\mathbf{x}^{(k)}),\\mathbf{d}^{(k)}\\rangle$$\n",
        "\n",
        "Elle est aussi appelée condition d'Armijo.\n",
        "\n",
        "$\\beta$ est un hyperparamètre dans $[0,1]$ permettant de contrôlé le seuil d'acceptabilité de $\\alpha$.  S'il est nul, tous les $\\alpha$ sont acceptés et s'il vaut 1, la décroissance doit être au moins aussi bonne que celle qui serait prédite par une approximation du premier ordre."
      ]
    },
    {
      "cell_type": "code",
      "metadata": {
        "id": "wPsb9wurH8v7"
      },
      "source": [
        "def gradient(f,x):\n",
        "  grad_x = nd.Gradient(f)(x)\n",
        "\n",
        "  return grad_x\n",
        "\n",
        "def backtracking_line_search(f, x, d, alpha, p=0.5, beta=1e-4):\n",
        "  y,g = f(x), gradient(f,x)\n",
        "\n",
        "  while f(x+alpha*d) > y + beta*alpha*np.inner(g,d):\n",
        "    alpha *= p\n",
        "  \n",
        "  return alpha"
      ],
      "execution_count": null,
      "outputs": []
    },
    {
      "cell_type": "markdown",
      "metadata": {
        "id": "KNY9DRogJZTh"
      },
      "source": [
        "Cette technique est garantie de converger vers un minimum local.\n",
        "\n",
        "Une autre condition, appelée **condition de courbure** requiert que la dérivée directionnelle de l'itération suivante soit \"moins profonde\" que la précédente. Cela se traduit par :\n",
        "\n",
        "$$\\langle\\nabla f(\\mathbf{x}^{(k+1)}),\\mathbf{d}^{(k)}\\rangle \\geq \\sigma\\langle\\nabla f(\\mathbf{x}^{(k)}),\\mathbf{d}^{(k)}\\rangle$$\n",
        "\n",
        "où $\\sigma$ vérifie $\\beta < \\sigma < 1$ (typiquement $\\sigma=0.1$ quand on utilise l'*approximate linear search* avec la méthode des gradients conjugués et $\\sigma=0.9$ quand on utilise la méthode de Newton, ce que nous verrons dans les chapitres suivant).\n",
        "\n",
        "Une alternative de cette dernière condition est la **condition de courbure forte** où on impose à la pente d'être négative :\n",
        "\n",
        "$$\\vert\\langle\\nabla f(\\mathbf{x}^{(k+1)}),\\mathbf{d}^{(k)}\\rangle\\vert \\leq -\\sigma\\langle\\nabla f(\\mathbf{x}^{(k)}),\\mathbf{d}^{(k)}\\rangle$$\n",
        "\n",
        "Ensemble, les conditions de courbure et de décroissance suffisante forment les **conditions de Wolfe** (respectivement les **conditions fortes de Wolfe** si on considère la condition forte de courbure).\n",
        "\n",
        "**Condition de décroissance suffisante = première condition de Wolfe.**\n",
        "\n",
        "**Condition de courbure = deuxième condition de Wolfe.**\n"
      ]
    },
    {
      "cell_type": "code",
      "metadata": {
        "id": "8LDzVRV2OHMy"
      },
      "source": [
        "def approximate_line_search(f, x, d, alpha, sigma, p=0.5, beta=1e-4):\n",
        "\n",
        "  alpha_opt = backtracking_line_search(f, x, d, alpha, p, beta)\n",
        "\n",
        "  new_x = x + alpha_opt*d\n",
        "\n",
        "  if np.inner(gradient(f,new_x),d) >= sigma*np.inner(gradient(f,x),d):\n",
        "    return new_x\n",
        "\n",
        "  else:\n",
        "    print(\"La deuxième condition de Wolfe n'est pas respectée.\")\n",
        "\n",
        "\n"
      ],
      "execution_count": null,
      "outputs": []
    },
    {
      "cell_type": "code",
      "metadata": {
        "colab": {
          "base_uri": "https://localhost:8080/"
        },
        "id": "6XPdAM2DNxV1",
        "outputId": "85e8ea11-369d-40dd-ec12-95857b7e07c0"
      },
      "source": [
        "def test_2(x):\n",
        "  return x[0]**2+x[0]*x[1]+ x[1]**2\n",
        "\n",
        "#Paramètres \n",
        "\n",
        "#f=test_2\n",
        "x = np.array([1,2])\n",
        "d = np.array([-1,-1])\n",
        "alpha = 10\n",
        "sigma = 0.9\n",
        "\n",
        "#print(test_2(x+alpha*d))\n",
        "#print(gradient(test_2,x))\n",
        "#print(backtracking_line_search(test_2,x,d,alpha))\n",
        "print(approximate_line_search(test_2, x, d, alpha, sigma))"
      ],
      "execution_count": null,
      "outputs": [
        {
          "output_type": "stream",
          "name": "stdout",
          "text": [
            "[-1.5 -0.5]\n"
          ]
        }
      ]
    },
    {
      "cell_type": "markdown",
      "metadata": {
        "id": "Q7Hqw4avUAsS"
      },
      "source": [
        "NB : la deuxième condition de Wolfe est nécessaire pour s'assurer que la dérivée seconde de la fonction de coût est positive et donc que le min est globale."
      ]
    },
    {
      "cell_type": "code",
      "metadata": {
        "id": "JGoIzyDkGBnm"
      },
      "source": [
        "def strong_backtracking(f, x , d, alpha=1, beta=1e-4, sigma = 0.1):\n",
        "  y0, g0, y_prev, alpha_prev = f(x), np.inner(gradient(f,x),d), np.nan,0\n",
        "  alpha_low, alpha_high = np.nan, np.nan\n",
        "\n",
        "  #first step bracketting\n",
        "  #L'algorithme commence par bracketter un intervalle contenant un pas \n",
        "  # qui satisfait les conditions fortes de Wolfe\n",
        "  \n",
        "  while True:\n",
        "    y = f(x + alpha*d)\n",
        "    if y > y0 + beta*alpha*g0 or (y_prev != np.nan and y >= y_prev):\n",
        "      alpha_low, alpha_high = alpha_prev, alpha\n",
        "      break\n",
        "    g = np.inner(gradient(f, x + alpha*d),d)\n",
        "    if abs(g) <= -sigma*g0:\n",
        "      return alpha\n",
        "    elif g >= 0:\n",
        "      alpha_low, alpha_high = alpha, alpha_prev\n",
        "      break\n",
        "    \n",
        "    y_prev, alpha_prev, alpha = y, alpha, 2*alpha\n",
        "\n",
        "  #Second step, zoom phase\n",
        "  #Une fois ue l'algorithme a trouvé un intervalle, on zoom sur l'intervalle\n",
        "  # avec la méthode des bisections pour jusqu'à trouver un pas qui satisfait\n",
        "  # les conditions fortes de Wolfe\n",
        "\n",
        "  y_low = f(x + alpha_low*d)\n",
        "\n",
        "  while True:\n",
        "    alpha = (alpha_low + alpha_high)/2\n",
        "    y = f(x + alpha*d)\n",
        "\n",
        "    if y > y0 + beta*alpha*g0 or y >= y_low:\n",
        "      alpha_high = alpha\n",
        "\n",
        "    else:\n",
        "      g = np.inner(gradient(f,x + alpha*d),d)\n",
        "      if abs(g) <= -sigma*g0:\n",
        "        return alpha\n",
        "      elif g*(alpha_high - alpha_low) >= 0:\n",
        "        alpha_high = alpha_low\n",
        "      \n",
        "      alpha_low = alpha"
      ],
      "execution_count": null,
      "outputs": []
    },
    {
      "cell_type": "code",
      "metadata": {
        "colab": {
          "base_uri": "https://localhost:8080/"
        },
        "id": "kbrKP0zjK48T",
        "outputId": "1637eb13-fb81-4231-e0c2-1a9f0544429e"
      },
      "source": [
        "#Paramètres \n",
        "\n",
        "#f=test_2\n",
        "x = np.array([1,2])\n",
        "d = np.array([-1,-1])\n",
        "alpha = 10\n",
        "\n",
        "print(backtracking_line_search(test_2,x,d,alpha))\n",
        "print(strong_backtracking(test_2,x,d))"
      ],
      "execution_count": null,
      "outputs": [
        {
          "output_type": "stream",
          "name": "stdout",
          "text": [
            "2.5\n",
            "1.5\n"
          ]
        }
      ]
    },
    {
      "cell_type": "markdown",
      "metadata": {
        "id": "Xyw10wdWD813"
      },
      "source": [
        "### Trust region methods\n",
        "\n",
        "Les méthodes de descente précédentes peuvent résulter en des pas trops grands ou des convergences trop rapides.\n",
        "\n",
        "Contrairement aux méthodes précédentes, les *trust region methods* commencent par choisir la taille du pas maximale puis la direction. L'algorithme trouve le prochain point $\\mathbf{x^{'}}$ en minimisant un modèle de la fonction de coût $f$ que l'on note $\\hat{f}$ sur une boule centrée en $\\mathbf{x}$ le point courant dans l'itération. La région de confiance est alors :\n",
        "\n",
        "$$\\mathcal{B}(\\mathbf{x},\\delta) = \\{\\mathbf{x^{'}}, \\vert\\vert\\mathbf{x}-\\mathbf{x^{'}}\\vert\\vert \\leq \\delta\\}$$\n",
        "\n",
        "Un exemple de $\\hat{f}$ est l'approximation de f au second ordre (Taylor, voir appendice C.2) :\n",
        "\n",
        "$$\\hat{f}(\\mathbf{x^{'}}) = f(\\mathbf{x}) + \\nabla f(\\mathbf{x})^\\top(\\mathbf{x^{'}}-\\mathbf{x})+\\frac{1}{2}(\\mathbf{x^{'}}-\\mathbf{x})^\\top\\nabla^{2} f(\\mathbf{x})(\\mathbf{x^{'}}-\\mathbf{x})$$\n",
        "\n",
        "Trouver le prochain $\\mathbf{x^{'}}$ point revient alors à résoudre :\n",
        "\n",
        "$$\\underset{\\mathbf{x^{'}}}{\\text{min}}  \\; \\hat{f}(\\mathbf{x^{'}})$$\n",
        "\n",
        "$$s.c \\ \\vert\\vert\\mathbf{x}-\\mathbf{x^{'}}\\vert\\vert \\leq \\delta\\$$\n",
        "\n",
        "Le rayon de la région de confiance $\\delta$ est choisi selon les performances de notre approximation $\\hat{f}$ :\n",
        "\n",
        "$$\\eta = \\frac{\\Delta y_{act}}{\\Delta y_{pred}} = \\frac{f(\\mathbf{x})-f(\\mathbf{x^{'}})}{f(\\mathbf{x})-\\hat{f}(\\mathbf{x^{'}})} = \\frac{actual \\ improvement}{predicted \\ improvement}$$\n",
        "\n",
        "- Si $\\eta \\approx 1$, notre prédiction est bonne.\n",
        "- Si $\\eta < \\eta_{1}$, on considère que l'amélioration est plus basse qu'attendu, $\\delta$ est trop grand, il faut le diminuer d'un facteur $\\gamma_{1} < 1$ ($\\eta_{1}$ est un seuil fixé).\n",
        "- Si $\\eta > \\eta_{2}$, on considère  que $\\delta$ est trop petit, il faut l'augmenter d'un facteur $\\gamma_{2} > 1$ ($\\eta_{2}$ est un seuil fixé).\n",
        "\n"
      ]
    },
    {
      "cell_type": "code",
      "metadata": {
        "colab": {
          "base_uri": "https://localhost:8080/"
        },
        "id": "dU9mNI3Kh9AW",
        "outputId": "89beee58-f56f-42b8-82d5-f2e40199f746"
      },
      "source": [
        "# x0 fait référence u point courant \n",
        "# x est la variable\n",
        "\n",
        "x0 = np.array([1,1])\n",
        "\n",
        "def hessian(f,x):\n",
        "  hess_x = nd.Hessian(f)(x)\n",
        "\n",
        "  return hess_x\n",
        "\n",
        "print(hessian(test_2,x0))  \n",
        "\n"
      ],
      "execution_count": null,
      "outputs": [
        {
          "output_type": "stream",
          "name": "stdout",
          "text": [
            "[[2. 1.]\n",
            " [1. 2.]]\n"
          ]
        }
      ]
    },
    {
      "cell_type": "code",
      "metadata": {
        "colab": {
          "base_uri": "https://localhost:8080/"
        },
        "id": "3XP20GbfQ_4S",
        "outputId": "e9985d83-e583-4248-9fd5-74f556f13f00"
      },
      "source": [
        "def solve_trust_region_subproblem(f,x0, delta):\n",
        "\n",
        "  n = len(x0)\n",
        "\n",
        "  q = gradient(f,x0)\n",
        "  P = hessian(f,x0)\n",
        "  x = cp.Variable(n)\n",
        "\n",
        "  prob = cp.Problem(cp.Minimize((1/2)*cp.quad_form(x-x0, P) + q.T @ (x-x0)),\n",
        "                 [cp.norm(x-x0, 2) <= delta])\n",
        "  \n",
        "  prob.solve()\n",
        "  \n",
        "  return x.value, prob.value\n",
        "\n",
        "#Test\n",
        "#Paramètres\n",
        "\n",
        "def test_2(x):\n",
        "  return x[0]**2+x[0]*x[1]+ x[1]**2\n",
        "\n",
        "\n",
        "x0 = np.array([1,1])\n",
        "f = lambda x: test_2(x)\n",
        "delta = 1\n",
        "\n",
        "\n",
        "print(solve_trust_region_subproblem(f,x0, delta))\n",
        "\n",
        "\n",
        "\n"
      ],
      "execution_count": null,
      "outputs": [
        {
          "output_type": "stream",
          "name": "stdout",
          "text": [
            "(array([0.29289322, 0.29289322]), -2.7426406875513716)\n"
          ]
        }
      ]
    },
    {
      "cell_type": "code",
      "metadata": {
        "id": "VdrpVYC8gvAy"
      },
      "source": [
        "def trust_region_descent(f, x, k_max, eta_1 = 0.25, eta_2 = 0.5, gamma_1 = 0.5, gamma_2 = 2.0, delta = 1.0):\n",
        "  y=f(x)\n",
        "  for k in range(k_max):\n",
        "\n",
        "    x_prime, y_prime = solve_trust_region_subproblem(f,x, delta)\n",
        "    r = (y-f(x_prime))/(y-y_prime)\n",
        "\n",
        "    if r < eta_1:\n",
        "      delta *= gamma_1\n",
        "    else:\n",
        "      x, y = x_prime, y_prime\n",
        "\n",
        "      if r > eta_2:\n",
        "        delta *= gamma_2\n",
        "    \n",
        "  return x\n"
      ],
      "execution_count": null,
      "outputs": []
    },
    {
      "cell_type": "markdown",
      "metadata": {
        "id": "5aEWYzF2XM9-"
      },
      "source": [
        "### Termination Conditions\n",
        "\n",
        "Dans les algorithmes de descentes, il y a quatre manières usuelles d'arrêter l'algorithme :\n",
        "\n",
        "- Définir un maximum d'itération $k_{max}$.\n",
        "- *Absolute improvment* = On s'arrête si la différence de $f$ entre les deux points consécutifs de l'itération est plus petite qu'un $\\epsilon$ fixé :\n",
        "$$\\vert f(\\mathbf{x}^{(k+1)})-f(\\mathbf{x}^{(k)})\\vert \\leq \\epsilon$$ \n",
        "- *Relative Improvement* :\n",
        "\n",
        "$$\\vert f(\\mathbf{x}^{(k+1)})-f(\\mathbf{x}^{(k)})\\vert \\leq \\epsilon\\vert f(\\mathbf{x}^{(k)})\\vert$$ \n",
        "\n",
        "- *Gradient magnitude* :\n",
        "\n",
        "$$\\vert\\vert \\nabla f(\\mathbf{x}^{(k+1)})\\vert\\vert\\leq \\epsilon$$"
      ]
    },
    {
      "cell_type": "markdown",
      "metadata": {
        "id": "SjBSccILw_QO"
      },
      "source": [
        "## Chapitre 5\n",
        "\n",
        "Dans ce chapitre sont présentées des méthodes du premier ordre pour choisir la direction de la descente."
      ]
    },
    {
      "cell_type": "markdown",
      "metadata": {
        "id": "DPMB0FGwxJnS"
      },
      "source": [
        "### Gradient Descent\n",
        "\n",
        "La direction de descente la plus \"raide\" est l'opposée du gradient $\\nabla f$.\n",
        "\n",
        "On note $\\mathbf{g}^{(k)} = \\nabla f(\\mathbf{x}^{(k)})$.\n",
        "\n",
        "On choisit souvent :\n",
        "\n",
        "$$\\mathbf{d}^{(k)} = -\\frac{\\mathbf{g}^{(k)}}{\\vert\\vert\\mathbf{g}^{(k)}\\vert\\vert}$$\n",
        "\n",
        "puis $\\alpha^{(k)}$ avec un *line search* (par exemple)."
      ]
    },
    {
      "cell_type": "code",
      "metadata": {
        "id": "R-e0ldK70VB1"
      },
      "source": [
        "#Fonction faisant une étape dans la descente de gradient\n",
        "\n",
        "def one_step_gradient_descent(f,x):\n",
        "  grad_x = gradient(f,x)\n",
        "  norm_grad = np.linalg.norm(grad_x)\n",
        "\n",
        "  if norm_grad==0:\n",
        "    print(x, \"est un point stationnaire.\")\n",
        "    return x \n",
        "  \n",
        "  else:\n",
        "\n",
        "    d = -(1/norm_grad)*grad_x\n",
        "    x_prime = line_search(f,x,d)\n",
        "\n",
        "    return x_prime\n",
        "\n",
        "def gradient_descent(f,x0,epsilon = 1e-5, kmax=1000):\n",
        "  k=0\n",
        "\n",
        "  #x_k+1 = x_prime\n",
        "  #x_k = x\n",
        "\n",
        "  x = x0\n",
        "  x_prime = one_step_gradient_descent(f,x0)\n",
        "\n",
        "  while np.linalg.norm(x_prime - x) >= epsilon and k < kmax:\n",
        "\n",
        "    x, x_prime = x_prime, one_step_gradient_descent(f,x_prime)\n",
        "\n",
        "    k += 1\n",
        "\n",
        "  if k == kmax:\n",
        "\n",
        "    \n",
        "    print(\"L'algorithme de la descente de gradient n'a pas convergé en \", k,\" itérations. Le point courant est \", x_prime,\".\")\n",
        "  \n",
        "  else:\n",
        "\n",
        "    return x_prime\n",
        "\n"
      ],
      "execution_count": null,
      "outputs": []
    },
    {
      "cell_type": "code",
      "metadata": {
        "colab": {
          "base_uri": "https://localhost:8080/"
        },
        "id": "JlDL7zLV-vt4",
        "outputId": "35771604-1343-4dc3-cbbc-ec3cfa75283b"
      },
      "source": [
        "#Test avec la fonction booth (cf au dessus)\n",
        "\n",
        "x0 = np.array([0,0])\n",
        "\n",
        "print(gradient_descent(booth,x0))\n",
        "\n"
      ],
      "execution_count": null,
      "outputs": [
        {
          "output_type": "stream",
          "name": "stdout",
          "text": [
            "[1.00000019 2.99999982]\n"
          ]
        }
      ]
    },
    {
      "cell_type": "markdown",
      "metadata": {
        "id": "RG9sDVa432NC"
      },
      "source": [
        "### Conjugate Gradient\n",
        "\n",
        "La descente de gradient peut être peu performante dans des vallées étroites. La méthode du gradient conjugué permet de s'affranchir de ce problème.\n",
        "\n",
        "Elle se base sur la forme quadratique des fonctions au voisinage de leur minima locaux.\n",
        "\n",
        "Deux méthodes : \"Fletcher-Reeves\" et \"Polak-Ribiere\"."
      ]
    },
    {
      "cell_type": "code",
      "metadata": {
        "id": "yuBn2ABHPbR-"
      },
      "source": [
        "def compute_beta(g_prev, g, method):\n",
        "\n",
        "  if method == \"Fletcher-Reeves\":\n",
        "    return np.inner(g,g)/np.inner(g_prev,g_prev)\n",
        "  \n",
        "  elif method == \"Polak-Ribiere\":\n",
        "\n",
        "    return np.inner(g,g-g_prev)/np.inner(g_prev,g_prev)\n",
        "\n"
      ],
      "execution_count": null,
      "outputs": []
    },
    {
      "cell_type": "code",
      "metadata": {
        "colab": {
          "base_uri": "https://localhost:8080/"
        },
        "id": "0CutoVfLztMr",
        "outputId": "0b1f215b-87f2-4508-8e53-485312c9f40e"
      },
      "source": [
        "#Test sur compute beta\n",
        "\n",
        "g_prev = np.array([1,1])\n",
        "g = np.array([2,2])\n",
        "method = \"Polak-Ribiere\"\n",
        "\n",
        "print(compute_beta(g_prev, g, method))\n"
      ],
      "execution_count": null,
      "outputs": [
        {
          "output_type": "stream",
          "name": "stdout",
          "text": [
            "2.0\n"
          ]
        }
      ]
    },
    {
      "cell_type": "code",
      "metadata": {
        "id": "ClR59b_5Cql5"
      },
      "source": [
        "def one_step_conjugate_gradient(f,x,g_prev,g,d_prev,method):\n",
        "\n",
        "  beta = max(compute_beta(g_prev, g, method),0) #permet de garantir la convergence pour la méthode de Polak-Riviere\n",
        "\n",
        "  d = -g + beta*d_prev\n",
        "\n",
        "  return line_search(f,x,d), d\n",
        "\n",
        "\n",
        "  "
      ],
      "execution_count": null,
      "outputs": []
    },
    {
      "cell_type": "code",
      "metadata": {
        "id": "PsByjIJYQkat"
      },
      "source": [
        "def conjugate_gradient(f,x0,method = \"Polak-Ribiere\",epsilon = 1e-5, kmax=1000):\n",
        "  \n",
        "  #x_(-1) = x0, g_(-1) = grad f(x0), d_(-1) = -g_(-1)\n",
        "  \n",
        "  #Dans la suite :\n",
        "  #x_k = x\n",
        "  #x_(k-1) = x_prev\n",
        "  #x_k+1 = x_prime\n",
        "  # et de la même manière pour g_prev, g, g_prime, d_prev, d\n",
        "\n",
        "  k=0\n",
        "  x_prev = x0\n",
        "  x = x0\n",
        "  g_prev = gradient(f,x_prev)\n",
        "  g = gradient(f,x)\n",
        "  d_prev = -g_prev\n",
        "  x_prime, d = one_step_conjugate_gradient(f,x,g_prev,g,d_prev,method)\n",
        "  \n",
        "  \n",
        "  while np.linalg.norm(x_prime - x) >= epsilon and k < kmax:\n",
        "\n",
        "    g_prev = g\n",
        "    g = gradient(f,x_prime)\n",
        "    d_prev = d\n",
        "\n",
        "    x = x_prime\n",
        "    x_prime, d = one_step_conjugate_gradient(f,x,g_prev,g,d_prev,method)\n",
        "\n",
        "    k += 1\n",
        "\n",
        "  if k == kmax:\n",
        "\n",
        "    \n",
        "    print(\"L'algorithme des gradients conjugués n'a pas convergé en \", k,\" itérations. Le point courant est \", x_prime,\".\")\n",
        "  \n",
        "  else:\n",
        "\n",
        "    return x_prime\n",
        "\n",
        "\n"
      ],
      "execution_count": null,
      "outputs": []
    },
    {
      "cell_type": "code",
      "metadata": {
        "colab": {
          "base_uri": "https://localhost:8080/"
        },
        "id": "gCNQtuiozOAP",
        "outputId": "4ba1b782-ac7a-45ff-e9cd-2aab1c57c315"
      },
      "source": [
        "#Test avec la fonction booth (cf au dessus)\n",
        "\n",
        "x0 = np.array([0,0])\n",
        "\n",
        "print(conjugate_gradient(booth,x0,))"
      ],
      "execution_count": null,
      "outputs": [
        {
          "output_type": "stream",
          "name": "stdout",
          "text": [
            "[1. 3.]\n"
          ]
        }
      ]
    },
    {
      "cell_type": "markdown",
      "source": [
        "### Momentum\n",
        "\n",
        "La descente de gradient classique peut mettre du temps à traverser des regions où la fonction de coût est très plate. \n",
        "\n",
        "La méthode *Momentum* est une manière d'accélérer la descente dans ce genre de situation.\n",
        "\n",
        "$$\\mathbf{v}^{(k+1)} = \\beta\\mathbf{v}^{(k)} - \\alpha\\mathbf{g}^{(k)}$$\n",
        "\n",
        "$$\\mathbf{x}^{(k+1)} = \\mathbf{x}^{(k)} + \\mathbf{v}^{(k+1)}$$\n",
        "\n",
        "NB : pour $\\beta = 0$, on reconnait la descente de gradient classique.\n",
        "\n",
        "**Interprétation** : la méthode *Momentum* peut s'interprêter comme l'accélération d'une balle, à l'aide de la gravité, sur un plan légèrement incliné. La vitesse (*Momentum*) augmente de plus en plus. Dans le cadre numérique, le gradient peut être interprêté comme la gravité qui fait augmenter le *Momentum*.\n",
        "\n"
      ],
      "metadata": {
        "id": "Xy4YSCl-qLcj"
      }
    },
    {
      "cell_type": "code",
      "source": [
        "#Fonction faisant une étape de la méthode momentum\n",
        "# alpha et beta sont des hyperparamètres\n",
        "\n",
        "def one_step_momentum(f,x,v,alpha,beta):\n",
        "  grad_x = gradient(f,x)\n",
        "  \n",
        "  v_prime = beta*v - alpha*grad_x\n",
        "\n",
        "  x_prime = x + v_prime\n",
        "\n",
        "  return x_prime, v_prime\n",
        "\n",
        "def momentum(f,x0,alpha,beta,epsilon = 1e-5, kmax=1000):\n",
        "  k=0\n",
        "\n",
        "  #x_k+1 = x_prime\n",
        "  #x_k = x\n",
        "  #v_k+1 = v_prime\n",
        "  #v_k = v\n",
        "\n",
        "  x = x0\n",
        "  v = np.array([0 for _ in range(len(x0))])\n",
        "\n",
        "  x_prime, v_prime = one_step_momentum(f,x,v,alpha,beta)\n",
        "\n",
        "  while np.linalg.norm(x_prime - x) >= epsilon and k < kmax:\n",
        "\n",
        "    x, v = x_prime, v_prime\n",
        "\n",
        "    x_prime, v_prime = one_step_momentum(f,x,v,alpha,beta)\n",
        "\n",
        "    k += 1\n",
        "\n",
        "  if k == kmax:\n",
        "\n",
        "    \n",
        "    print(\"L'algorithme de la descente de gradient n'a pas convergé en \", k,\" itérations. Le point courant est \", x_prime,\".\")\n",
        "  \n",
        "  else:\n",
        "\n",
        "    return x_prime"
      ],
      "metadata": {
        "id": "uzA_yowAs3PU"
      },
      "execution_count": null,
      "outputs": []
    },
    {
      "cell_type": "code",
      "source": [
        "#Test avec la fonction Rosenbrock (b=1, cf au dessus)\n",
        "\n",
        "x0 = np.array([0,0])\n",
        "f = lambda x: rosenbrock(x, a=1, b=1)\n",
        "alpha = 0.1\n",
        "beta = 0\n",
        "\n",
        "#ici descente de gradient classique à pas constant\n",
        "#le min global est [1,1]\n",
        "\n",
        "print(momentum(f,x0,alpha,beta)) "
      ],
      "metadata": {
        "colab": {
          "base_uri": "https://localhost:8080/"
        },
        "id": "80jvd6spUOL4",
        "outputId": "2a23ac09-c910-4cf7-ec43-e15221f5d3c6"
      },
      "execution_count": null,
      "outputs": [
        {
          "output_type": "stream",
          "name": "stdout",
          "text": [
            "[0.9998925  0.99974047]\n"
          ]
        }
      ]
    },
    {
      "cell_type": "markdown",
      "source": [
        "### Nesterov Momentum\n",
        "\n",
        "Un inconvénient de la méthode précédente, et que les pas ne rapetissent pas suffisamment en fond de vallées (ie proche des minima locaux) et elle a donc tendance à les manquer. \n",
        "\n",
        "Cette méthode permet d'éviter ce défaut :\n",
        "\n",
        "$$\\mathbf{v}^{(k+1)} = \\beta\\mathbf{v}^{(k)} - \\alpha\\nabla f(\\mathbf{x}^{(k)}+\\beta\\mathbf{v}^{(k)})$$\n",
        "\n",
        "$$\\mathbf{x}^{(k+1)} = \\mathbf{x}^{(k)} + \\mathbf{v}^{(k+1)}$$"
      ],
      "metadata": {
        "id": "WB9w6-WpVtbM"
      }
    },
    {
      "cell_type": "code",
      "source": [
        "#Fonction faisant une étape de la méthode Nesterov\n",
        "#alpha et beta hyperparamètres\n",
        "\n",
        "def one_step_nesterov(f,x,v,alpha,beta):\n",
        "  grad = gradient(f,x + beta*v)\n",
        "  \n",
        "  v_prime = beta*v - alpha*grad\n",
        "\n",
        "  x_prime = x + v_prime\n",
        "\n",
        "  return x_prime, v_prime\n",
        "\n",
        "def nesterov(f,x0,alpha,beta,epsilon = 1e-5, kmax=1000):\n",
        "  k=0\n",
        "\n",
        "  #x_k+1 = x_prime\n",
        "  #x_k = x\n",
        "  #v_k+1 = v_prime\n",
        "  #v_k = v\n",
        "\n",
        "  x = x0\n",
        "  v = np.array([0 for _ in range(len(x0))])\n",
        "\n",
        "  x_prime, v_prime = one_step_nesterov(f,x,v,alpha,beta)\n",
        "\n",
        "  while np.linalg.norm(x_prime - x) >= epsilon and k < kmax:\n",
        "\n",
        "    x, v = x_prime, v_prime\n",
        "\n",
        "    x_prime, v_prime = one_step_nesterov(f,x,v,alpha,beta)\n",
        "\n",
        "    k += 1\n",
        "\n",
        "  if k == kmax:\n",
        "\n",
        "    \n",
        "    print(\"L'algorithme de la descente de gradient n'a pas convergé en \", k,\" itérations. Le point courant est \", x_prime,\".\")\n",
        "  \n",
        "  else:\n",
        "\n",
        "    return x_prime"
      ],
      "metadata": {
        "id": "odlw6_ruaKg4"
      },
      "execution_count": null,
      "outputs": []
    },
    {
      "cell_type": "code",
      "source": [
        "#Test avec la fonction Rosenbrock (b=1, cf au dessus)\n",
        "\n",
        "x0 = np.array([0,0])\n",
        "f = lambda x: rosenbrock(x, a=1, b=1)\n",
        "alpha = 0.1\n",
        "beta = 0.1\n",
        "\n",
        "#le min global est [1,1]\n",
        "\n",
        "print(nesterov(f,x0,alpha,beta))"
      ],
      "metadata": {
        "colab": {
          "base_uri": "https://localhost:8080/"
        },
        "id": "mElnLJzNbJBZ",
        "outputId": "2a66432c-fe24-4cfd-a5e5-32120d5c53f0"
      },
      "execution_count": null,
      "outputs": [
        {
          "output_type": "stream",
          "name": "stdout",
          "text": [
            "[0.99990493 0.99977049]\n",
            "[-2.  0.]\n"
          ]
        }
      ]
    },
    {
      "cell_type": "markdown",
      "source": [
        "[texte du lien](https://)### Adagrad\n",
        "\n",
        "Dans les deux méthodes précédentes, toutes les composantes de $\\mathbf{x}$ avec le même *learning rate*. La méthode *Adagrad = adaptative subgradient* adapte un *learning rate* particulier pour chaque composante de $\\mathbf{x}$.\n",
        "\n",
        "Adagrad atténue l'influence des paramètres avec des\n",
        "gradients élevés.\n",
        "\n",
        "$$x_i^{(k+1)} = x_i^{(k)} - \\frac{\\alpha}{\\epsilon + \\sqrt{s_i^{(k)}}}g_i^{(k)}$$\n",
        "\n",
        "$$s_i^{(k)} = \\sum_{j=1}^{k} \\left( g_i^{(j)}\\right)^2$$\n",
        "\n",
        "Typiquement $\\epsilon = 10^{-8}$, permet d'éviter des divisions par 0.\n",
        "\n",
        "*Adagrad* est beaucoup moins sensible à l'hyperparamètre $\\alpha$ (*learning rate*) qui est typiquement fixé à 0,01.\n",
        "\n",
        "En revanche, cette méthode a une faiblesse lié au fait que les composantes de $\\mathbf{s}$ augmentent. Cela peut rendre le *learning rate* très petit avant la convergence.\n",
        "\n"
      ],
      "metadata": {
        "id": "piRHvTFEboP2"
      }
    },
    {
      "cell_type": "code",
      "source": [
        "from operator import xor\n",
        "#Fonction faisant une étape de la méthode Adagrad\n",
        "#alpha = 0.01 typiquement et beta hyperparamètres\n",
        "\n",
        "def one_step_adagrad(f,x,s,alpha,epsilon):\n",
        "  grad = gradient(f,x)\n",
        "\n",
        "  s += grad*grad\n",
        "  \n",
        "  x_prime = np.array([x[i] - alpha/(epsilon + np.sqrt(s[i]))*grad[i] for i in range(len(x))])\n",
        "\n",
        "  \n",
        "\n",
        "  return s, x_prime\n",
        "\n",
        "def adagrad(f,x0,alpha = 0.01, epsilon = 1e-8, convergence_criteria = 1e-5, kmax=1000):\n",
        "  k=0\n",
        "\n",
        "  #x_k+1 = x_prime\n",
        "  #x_k = x\n",
        "  #v_k+1 = v_prime\n",
        "  #v_k = v\n",
        "\n",
        "  x = x0\n",
        "  s = np.array([0 for _ in range(len(x0))])\n",
        "\n",
        "  s, x_prime = one_step_adagrad(f,x,s,alpha,epsilon)\n",
        "\n",
        "  while np.linalg.norm(x_prime - x) >= convergence_criteria and k < kmax:\n",
        "\n",
        "    xor\n",
        "\n",
        "    k += 1\n",
        "\n",
        "  if k == kmax:\n",
        "\n",
        "    \n",
        "    print(\"L'algorithme de la descente de gradient n'a pas convergé en \", k,\" itérations. Le point courant est \", x_prime,\".\")\n",
        "  \n",
        "  else:\n",
        "\n",
        "    return x_prime"
      ],
      "metadata": {
        "id": "2ri68mSNmEtg"
      },
      "execution_count": null,
      "outputs": []
    },
    {
      "cell_type": "code",
      "source": [
        "x = np.array([1,1,1])\n",
        "y = np.array([2,2,2])\n",
        "\n",
        "print(x)\n",
        "\n",
        "x += y*y\n",
        "\n",
        "print(np.array([x[i] for i in range(len(x))]))"
      ],
      "metadata": {
        "colab": {
          "base_uri": "https://localhost:8080/"
        },
        "id": "mwmmVJAqmo98",
        "outputId": "2ef93f3f-20e5-4a82-b21c-23a87adcdda9"
      },
      "execution_count": null,
      "outputs": [
        {
          "output_type": "stream",
          "name": "stdout",
          "text": [
            "[1 1 1]\n",
            "[5 5 5]\n"
          ]
        }
      ]
    },
    {
      "cell_type": "markdown",
      "source": [
        "Regarder les méthodes de back propagation du terme d'erreur dans les réseaux de neurones.\n",
        "\n",
        "Regarder quels types de méthodes de descente de gradient sont utilisées dans les réseaux de neurones.\n"
      ],
      "metadata": {
        "id": "ezjpnVv95gvG"
      }
    },
    {
      "cell_type": "markdown",
      "source": [
        "###Méthodes sans gradients"
      ],
      "metadata": {
        "id": "CLNlI7eJyMFb"
      }
    },
    {
      "cell_type": "markdown",
      "source": [
        "Algorithme génétique"
      ],
      "metadata": {
        "id": "AU2awfh2yYi7"
      }
    },
    {
      "cell_type": "code",
      "source": [
        "def genetic(f,n_dims,n_samples,n_gens,lims,k_max,sigma,l=1/2):\n",
        "  x = np.array([[np.random.uniform(lims[j][0],lims[j][1]) for j in range(n_dims)] for n in range(n_samples)])\n",
        "  history = [x]\n",
        "  for gen in range(n_gens):\n",
        "    y = np.array([f(x[i]) for i in range(n_samples)]).reshape(-1,1)\n",
        "    ind = np.argsort(y, axis=0)\n",
        "    z = np.take_along_axis(x, ind, axis=0)\n",
        "    x_top = z[:k_max]\n",
        "    x = np.zeros((n_samples,n_dims))\n",
        "    for m in range(n_samples):\n",
        "      k1 = np.random.randint(k_max)\n",
        "      k2 = np.random.randint(k_max-1)\n",
        "      if k2 >= k1:\n",
        "        k2 += 1\n",
        "      child = l*x_top[k1]+(1-l)*x_top[k2] + np.random.normal(0,sigma,n_dims)\n",
        "      x[m] = child\n",
        "    history = history + [x]\n",
        "  y = np.array([f(x[i]) for i in range(n_samples)]).reshape(-1,1)\n",
        "  k = np.argmin(y)\n",
        "  return(x[k],history)"
      ],
      "metadata": {
        "id": "COlYG7vLyi4A"
      },
      "execution_count": null,
      "outputs": []
    },
    {
      "cell_type": "code",
      "source": [
        "x = np.arange(-3,21,0.05)\n",
        "y = np.arange(-3,21,0.05)\n",
        "X, Y = np.meshgrid(x, y)\n",
        "Z = [[ackley([x[i],y[j]]) for j in range(len(y))] for i in range(len(x))]\n",
        "plt.contour(X,Y,Z,10)\n",
        "\n",
        "x,h = genetic(ackley,2,100,10,[[-2,20],[-2,20]],10,0.1, l = 0.5)\n",
        "plt.scatter(h[0][:,0],h[0][:,1])\n",
        "plt.scatter(h[1][:,0],h[1][:,1])\n",
        "plt.scatter(h[-1][:,0],h[-1][:,1])\n",
        "plt.scatter([x[0]],[x[1]]);"
      ],
      "metadata": {
        "colab": {
          "base_uri": "https://localhost:8080/",
          "height": 265
        },
        "id": "JHx3mY9uylUF",
        "outputId": "0735425b-18d5-43b1-cc0e-299b5cd8da19"
      },
      "execution_count": null,
      "outputs": [
        {
          "output_type": "display_data",
          "data": {
            "image/png": "[encoded data removed]",
            "text/plain": [
              "<Figure size 432x288 with 1 Axes>"
            ]
          },
          "metadata": {
            "needs_background": "light"
          }
        }
      ]
    },
    {
      "cell_type": "code",
      "source": [
        "def swarm(f,n_dims,n_samples,n_iters,lims,w=1,c1=1,c2=1):\n",
        "  x = np.array([[np.random.uniform(lims[j][0],lims[j][1]) for j in range(n_dims)] for n in range(n_samples)])\n",
        "  history = [x]\n",
        "  v = np.zeros_like(x)\n",
        "  y = np.array([f(x[i]) for i in range(n_samples)])\n",
        "  xmin = x[np.argmin(y)]\n",
        "  ymin = f(xmin)\n",
        "  xb = np.copy(x)\n",
        "  yb = np.copy(y)\n",
        "  for k in range(n_iters):\n",
        "    r = np.random.random(size = 2)\n",
        "    v = w*v+r[0]*c1*(xb-x)+r[1]*c2*(xmin-x)\n",
        "    x = x+v\n",
        "    y = np.array([f(x[i]) for i in range(n_samples)])\n",
        "    xmin1 = x[np.argmin(y)]\n",
        "    if f(xmin1)<ymin:\n",
        "      xmin = xmin1\n",
        "      ymin = f(xmin)\n",
        "    xb[y<yb] = x[y<yb]\n",
        "    yb = np.minimum(y,yb)\n",
        "    history += [x]\n",
        "  return x[np.argmin(f(x))],history"
      ],
      "metadata": {
        "id": "r-rKsx-hnMU4"
      },
      "execution_count": null,
      "outputs": []
    },
    {
      "cell_type": "code",
      "source": [
        "x = np.arange(-3,21,0.05)\n",
        "y = np.arange(-3,21,0.05)\n",
        "X, Y = np.meshgrid(x, y)\n",
        "Z = [[ackley([x[i],y[j]]) for j in range(len(y))] for i in range(len(x))]\n",
        "plt.contour(X,Y,Z,10)\n",
        "\n",
        "x,h = swarm(ackley,2,30,50,[[-2,20],[-2,20]], 0.5,0.5,0.5)\n",
        "plt.scatter(h[0][:,0],h[0][:,1])\n",
        "plt.scatter(h[1][:,0],h[1][:,1])\n",
        "plt.scatter(h[-1][:,0],h[-1][:,1])\n",
        "plt.scatter([x[0]],[x[1]])\n",
        "plt.show()"
      ],
      "metadata": {
        "colab": {
          "base_uri": "https://localhost:8080/",
          "height": 265
        },
        "id": "HZ5oATDDnU79",
        "outputId": "bb6fd0a7-6df6-4705-af40-932e920ee1ef"
      },
      "execution_count": null,
      "outputs": [
        {
          "output_type": "display_data",
          "data": {
            "image/png": "[encoded data removed]",
            "text/plain": [
              "<Figure size 432x288 with 1 Axes>"
            ]
          },
          "metadata": {
            "needs_background": "light"
          }
        }
      ]
    }
  ]
}